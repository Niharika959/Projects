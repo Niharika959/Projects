{
  "cells": [
    {
      "cell_type": "markdown",
      "source": [
        "**Assignment** **1-Neural Networks**"
      ],
      "metadata": {
        "id": "nbh6MgN_7TgM"
      }
    },
    {
      "cell_type": "markdown",
      "source": [
        "*Classification of Movie Reviews: A binary Classification Problem*"
      ],
      "metadata": {
        "id": "5FgwgtSc86C0"
      }
    },
    {
      "cell_type": "markdown",
      "source": [
        "**Problem Statement:**\n",
        "Using Neural Networks, classify a movie review as either a Positive review or a negative review. "
      ],
      "metadata": {
        "id": "C9hFo1Am9doK"
      }
    },
    {
      "cell_type": "code",
      "execution_count": null,
      "metadata": {
        "id": "Igxhw6Tx2uXp"
      },
      "outputs": [],
      "source": [
        "#Loading the IMDB Dataset\n",
        "\n",
        "from tensorflow.keras.datasets import imdb\n",
        "(train_data, train_labels), (test_data, test_labels) = imdb.load_data(\n",
        "    num_words=10000)\n",
        "\n",
        "\n",
        "train_data[0]\n",
        "train_labels[0]\n",
        "max([max(sequence) for sequence in train_data])\n"
      ]
    },
    {
      "cell_type": "code",
      "execution_count": null,
      "metadata": {
        "id": "aLPDSIEZ3vbA"
      },
      "outputs": [],
      "source": [
        "#Decoding reviews back to text\n",
        "\n",
        "# step 1: Load the mappings of the dictionary from the word to integer index\n",
        "word_index = imdb.get_word_index()\n",
        "\n",
        "# step 2: reverse word index to integer mapping \n",
        "reverse_word_index = dict(\n",
        "    [(value, key) for (key, value) in word_index.items()])\n",
        "\n",
        "# step 3: Decode the review, mapping integer to words\n",
        "decoded_review = \" \".join(\n",
        "    [reverse_word_index.get(i - 3, \"?\") for i in train_data[0]])"
      ]
    },
    {
      "cell_type": "markdown",
      "source": [
        "**Preparing the data:**\n",
        "\n",
        "Multi-hot encoding is being used to convert the lists into vectors of 0s and 1s. Dimension is set to 10000 representing each review by a 10000-dimensional vector.\n",
        "\n",
        "\n",
        "\n"
      ],
      "metadata": {
        "id": "DI-h08Qx_Avk"
      }
    },
    {
      "cell_type": "code",
      "execution_count": null,
      "metadata": {
        "id": "eE7JQ9tr33r-"
      },
      "outputs": [],
      "source": [
        "#Encoding the integer sequences via multi-hot encoding\n",
        "\n",
        "import numpy as np\n",
        "def vectorize_sequences(sequences, dimension=10000):\n",
        "    results = np.zeros((len(sequences), dimension))\n",
        "    for i, sequence in enumerate(sequences):\n",
        "        for j in sequence:\n",
        "            results[i, j] = 1.\n",
        "    return results\n",
        "\n",
        "x_train = vectorize_sequences(train_data)\n",
        "x_test = vectorize_sequences(test_data)\n",
        "\n",
        "x_train[0]\n",
        "\n",
        "y_train = np.asarray(train_labels).astype(\"float32\")\n",
        "y_test = np.asarray(test_labels).astype(\"float32\")"
      ]
    },
    {
      "cell_type": "markdown",
      "source": [
        "**Building the Model:**"
      ],
      "metadata": {
        "id": "bZIsFDUd_6R8"
      }
    },
    {
      "cell_type": "markdown",
      "source": [
        "*Architecture of the Model:* \n",
        "\n",
        "1.   We are using Keras library for this classification problem.\n",
        "2.   First 2 hidden layers has 16 nodes in each layer with an activation function of **ReLU**( activation function is changed to **tanh** to observe as to how different activation function changes the accuracy of the Validation and the test set).\n",
        "3. Third layer is the output layer which uses a sigmoid function.\n",
        "\n",
        "\n",
        "\n",
        "\n",
        "\n",
        "\n",
        "\n",
        "\n",
        "\n",
        "\n",
        "\n",
        "\n"
      ],
      "metadata": {
        "id": "zgcPqoNtBdDT"
      }
    },
    {
      "cell_type": "code",
      "execution_count": null,
      "metadata": {
        "id": "xAoFrBNG4cHU"
      },
      "outputs": [],
      "source": [
        "#Model Definition\n",
        "from tensorflow import keras\n",
        "from tensorflow.keras import layers\n",
        "\n",
        "model = keras.Sequential([\n",
        "    layers.Dense(16, activation=\"tanh\"),\n",
        "    layers.Dense(16, activation=\"tanh\"),\n",
        "    layers.Dense(1, activation=\"sigmoid\")\n",
        "])"
      ]
    },
    {
      "cell_type": "markdown",
      "source": [
        "**Compiling the model:**\n",
        "\n",
        "The following functions are used to compile the model:\n",
        "\n",
        "\n",
        "* rmsprop optimizer is used.\n",
        "* Loss function is binary_crossentropy as it is a binary classification problem.\n",
        "* The measure of performance is Accuracy.\n",
        "\n",
        "\n",
        "\n",
        "\n"
      ],
      "metadata": {
        "id": "_t1KmwZjDaie"
      }
    },
    {
      "cell_type": "code",
      "execution_count": null,
      "metadata": {
        "id": "VpawJ5Lq4ojB"
      },
      "outputs": [],
      "source": [
        "model.compile(optimizer=\"rmsprop\",\n",
        "              loss=\"binary_crossentropy\",\n",
        "              metrics=[\"accuracy\"])\n"
      ]
    },
    {
      "cell_type": "markdown",
      "source": [
        "**Partitioning the data into Training and Validation set:**\n",
        "\n",
        "A part of the data is being set aside to validate the performance of the model. Validation is set is used in tuning the hyperparameters while finding the optimal value. We usually adjust the value of the hyperparameter in training set and check the model's performance on the validation set.This adjusting of hyperparameter is done until the maximum accuracy is attained. (In our case, we are estimating the model's performance by Accuracy),"
      ],
      "metadata": {
        "id": "ywYAhLRWFONQ"
      }
    },
    {
      "cell_type": "code",
      "execution_count": null,
      "metadata": {
        "id": "9zjrZL8d44kv"
      },
      "outputs": [],
      "source": [
        "x_val = x_train[:10000]\n",
        "partial_x_train = x_train[10000:]\n",
        "y_val = y_train[:10000]\n",
        "partial_y_train = y_train[10000:]"
      ]
    },
    {
      "cell_type": "markdown",
      "source": [
        "**Training the Model:**\n",
        "\n",
        "Initially, we are training the model in batches of 20(epochs) with 512 samples. Later on, based on the loss function and accuracy, these number of epochs is changed."
      ],
      "metadata": {
        "id": "uRYe65eBGabJ"
      }
    },
    {
      "cell_type": "code",
      "execution_count": null,
      "metadata": {
        "id": "c5_HUJmL4-YP",
        "colab": {
          "base_uri": "https://localhost:8080/"
        },
        "outputId": "14de8c77-16c1-4ac8-ca7e-d6789dd5d8c6"
      },
      "outputs": [
        {
          "output_type": "stream",
          "name": "stdout",
          "text": [
            "Epoch 1/20\n",
            "30/30 [==============================] - 3s 80ms/step - loss: 0.5035 - accuracy: 0.7911 - val_loss: 0.3763 - val_accuracy: 0.8619\n",
            "Epoch 2/20\n",
            "30/30 [==============================] - 2s 55ms/step - loss: 0.2974 - accuracy: 0.8975 - val_loss: 0.3051 - val_accuracy: 0.8756\n",
            "Epoch 3/20\n",
            "30/30 [==============================] - 1s 44ms/step - loss: 0.2166 - accuracy: 0.9209 - val_loss: 0.2811 - val_accuracy: 0.8837\n",
            "Epoch 4/20\n",
            "30/30 [==============================] - 1s 44ms/step - loss: 0.1715 - accuracy: 0.9405 - val_loss: 0.2761 - val_accuracy: 0.8854\n",
            "Epoch 5/20\n",
            "30/30 [==============================] - 1s 43ms/step - loss: 0.1350 - accuracy: 0.9546 - val_loss: 0.2906 - val_accuracy: 0.8840\n",
            "Epoch 6/20\n",
            "30/30 [==============================] - 2s 65ms/step - loss: 0.1099 - accuracy: 0.9631 - val_loss: 0.3402 - val_accuracy: 0.8736\n",
            "Epoch 7/20\n",
            "30/30 [==============================] - 2s 56ms/step - loss: 0.0893 - accuracy: 0.9711 - val_loss: 0.3517 - val_accuracy: 0.8756\n",
            "Epoch 8/20\n",
            "30/30 [==============================] - 1s 43ms/step - loss: 0.0735 - accuracy: 0.9754 - val_loss: 0.3836 - val_accuracy: 0.8777\n",
            "Epoch 9/20\n",
            "30/30 [==============================] - 1s 44ms/step - loss: 0.0569 - accuracy: 0.9833 - val_loss: 0.4261 - val_accuracy: 0.8700\n",
            "Epoch 10/20\n",
            "30/30 [==============================] - 1s 45ms/step - loss: 0.0533 - accuracy: 0.9838 - val_loss: 0.4570 - val_accuracy: 0.8713\n",
            "Epoch 11/20\n",
            "30/30 [==============================] - 1s 45ms/step - loss: 0.0391 - accuracy: 0.9887 - val_loss: 0.4977 - val_accuracy: 0.8711\n",
            "Epoch 12/20\n",
            "30/30 [==============================] - 1s 43ms/step - loss: 0.0372 - accuracy: 0.9881 - val_loss: 0.5315 - val_accuracy: 0.8665\n",
            "Epoch 13/20\n",
            "30/30 [==============================] - 1s 44ms/step - loss: 0.0247 - accuracy: 0.9935 - val_loss: 0.5684 - val_accuracy: 0.8677\n",
            "Epoch 14/20\n",
            "30/30 [==============================] - 1s 45ms/step - loss: 0.0270 - accuracy: 0.9923 - val_loss: 0.5915 - val_accuracy: 0.8684\n",
            "Epoch 15/20\n",
            "30/30 [==============================] - 2s 65ms/step - loss: 0.0305 - accuracy: 0.9909 - val_loss: 0.6124 - val_accuracy: 0.8654\n",
            "Epoch 16/20\n",
            "30/30 [==============================] - 2s 68ms/step - loss: 0.0297 - accuracy: 0.9907 - val_loss: 0.6307 - val_accuracy: 0.8685\n",
            "Epoch 17/20\n",
            "30/30 [==============================] - 1s 45ms/step - loss: 0.0052 - accuracy: 0.9997 - val_loss: 0.6532 - val_accuracy: 0.8676\n",
            "Epoch 18/20\n",
            "30/30 [==============================] - 1s 44ms/step - loss: 0.0284 - accuracy: 0.9919 - val_loss: 0.6716 - val_accuracy: 0.8668\n",
            "Epoch 19/20\n",
            "30/30 [==============================] - 2s 54ms/step - loss: 0.0032 - accuracy: 0.9999 - val_loss: 0.6930 - val_accuracy: 0.8672\n",
            "Epoch 20/20\n",
            "30/30 [==============================] - 1s 44ms/step - loss: 0.0256 - accuracy: 0.9931 - val_loss: 0.7054 - val_accuracy: 0.8658\n"
          ]
        }
      ],
      "source": [
        "history = model.fit(partial_x_train,\n",
        "                   partial_y_train,\n",
        "                   epochs=20,\n",
        "                   batch_size=512,\n",
        "                   validation_data=(x_val, y_val))\n"
      ]
    },
    {
      "cell_type": "code",
      "execution_count": null,
      "metadata": {
        "colab": {
          "base_uri": "https://localhost:8080/"
        },
        "id": "P2wJSOyE5UBv",
        "outputId": "8a471d1f-1aa5-4cd7-a10c-0cab59cd7e9b"
      },
      "outputs": [
        {
          "output_type": "execute_result",
          "data": {
            "text/plain": [
              "dict_keys(['loss', 'accuracy', 'val_loss', 'val_accuracy'])"
            ]
          },
          "metadata": {},
          "execution_count": 9
        }
      ],
      "source": [
        "history_dict = history.history\n",
        "history_dict.keys()"
      ]
    },
    {
      "cell_type": "code",
      "execution_count": null,
      "metadata": {
        "id": "_UA4yFcR5rbW",
        "colab": {
          "base_uri": "https://localhost:8080/",
          "height": 295
        },
        "outputId": "eca1cb71-5084-4ed8-db40-30e02d9ea22b"
      },
      "outputs": [
        {
          "output_type": "display_data",
          "data": {
            "text/plain": [
              "<Figure size 432x288 with 1 Axes>"
            ],
            "image/png": "[encoded data removed]"
          },
          "metadata": {
            "needs_background": "light"
          }
        }
      ],
      "source": [
        "#Plotting the Validation loss\n",
        "import matplotlib.pyplot as plt\n",
        "history_dict = history.history\n",
        "loss_values = history_dict[\"loss\"]\n",
        "val_loss_values = history_dict[\"val_loss\"]\n",
        "epochs = range(1, len(loss_values) + 1)\n",
        "plt.plot(epochs, loss_values, \"bo\", label=\"Training loss\")\n",
        "plt.plot(epochs, val_loss_values, \"b\", label=\"Validation loss\")\n",
        "plt.title(\"Training and validation loss\")\n",
        "plt.xlabel(\"Epochs\")\n",
        "plt.ylabel(\"Loss\")\n",
        "plt.legend()\n",
        "plt.show()"
      ]
    },
    {
      "cell_type": "code",
      "execution_count": null,
      "metadata": {
        "id": "-PbhEfXp53TP",
        "colab": {
          "base_uri": "https://localhost:8080/",
          "height": 295
        },
        "outputId": "6bcb028c-be38-461a-f966-9c0603d97fdb"
      },
      "outputs": [
        {
          "output_type": "display_data",
          "data": {
            "text/plain": [
              "<Figure size 432x288 with 1 Axes>"
            ],
            "image/png": "[encoded data removed]"
          },
          "metadata": {
            "needs_background": "light"
          }
        }
      ],
      "source": [
        "#Plotting the training and validation accuracy\n",
        "\n",
        "plt.clf()\n",
        "acc = history_dict[\"accuracy\"]\n",
        "val_acc = history_dict[\"val_accuracy\"]\n",
        "plt.plot(epochs, acc, \"bo\", label=\"Training acc\")\n",
        "plt.plot(epochs, val_acc, \"b\", label=\"Validation acc\")\n",
        "plt.title(\"Training and validation accuracy\")\n",
        "plt.xlabel(\"Epochs\")\n",
        "plt.ylabel(\"Accuracy\")\n",
        "plt.legend()\n",
        "plt.show()"
      ]
    },
    {
      "cell_type": "markdown",
      "source": [
        "From the above plots,\n",
        "\n",
        "We can observe that the minimum validation loss and maximum accuracy is obtained nearly at 2 epochs(less than 2.5 according to the plots.)\n",
        "After 2.5 epochs, the accuracy on the training data is improving whereas the accuracy on the Validation data is decreasing. This means that after 2.5 epochs, model is overfitted.\n",
        "\n",
        "\n",
        "To decrease model's overfitting, 2 epochs is chosen as optimal number of epochs."
      ],
      "metadata": {
        "id": "obF7UXYfH8lL"
      }
    },
    {
      "cell_type": "code",
      "execution_count": null,
      "metadata": {
        "colab": {
          "base_uri": "https://localhost:8080/"
        },
        "id": "Wip1NuI82Ogq",
        "outputId": "726a3c6b-b88c-4622-a05a-f118318ee045"
      },
      "outputs": [
        {
          "output_type": "stream",
          "name": "stdout",
          "text": [
            "Epoch 1/2\n",
            "30/30 [==============================] - 2s 78ms/step - loss: 0.0023 - accuracy: 0.9999 - val_loss: 0.7246 - val_accuracy: 0.8655\n",
            "Epoch 2/2\n",
            "30/30 [==============================] - 1s 41ms/step - loss: 0.0251 - accuracy: 0.9936 - val_loss: 0.7417 - val_accuracy: 0.8654\n"
          ]
        }
      ],
      "source": [
        "#Training the model\n",
        "history = model.fit(partial_x_train,\n",
        "                    partial_y_train,\n",
        "                    epochs=2,\n",
        "                    batch_size=512,\n",
        "                    validation_data=(x_val, y_val))"
      ]
    },
    {
      "cell_type": "markdown",
      "source": [
        "The accuracy of the model on Validation set is 86.55 and 86.54 on each epoch respectively."
      ],
      "metadata": {
        "id": "rakTrkZWL_8V"
      }
    },
    {
      "cell_type": "code",
      "execution_count": null,
      "metadata": {
        "colab": {
          "base_uri": "https://localhost:8080/"
        },
        "id": "ZxQF8Be8EpO2",
        "outputId": "c07c83fc-ac75-4c67-c009-809b5b88978f"
      },
      "outputs": [
        {
          "output_type": "stream",
          "name": "stdout",
          "text": [
            "Epoch 1/2\n",
            "49/49 [==============================] - 3s 32ms/step - loss: 0.4489 - accuracy: 0.8248\n",
            "Epoch 2/2\n",
            "49/49 [==============================] - 1s 30ms/step - loss: 0.2142 - accuracy: 0.9242\n",
            "782/782 [==============================] - 3s 4ms/step - loss: 0.2871 - accuracy: 0.8834\n"
          ]
        },
        {
          "output_type": "execute_result",
          "data": {
            "text/plain": [
              "[0.2871164381504059, 0.883400022983551]"
            ]
          },
          "metadata": {},
          "execution_count": 15
        }
      ],
      "source": [
        "#Testing on test data\n",
        "\n",
        "model = keras.Sequential([\n",
        "    layers.Dense(16, activation=\"relu\"),\n",
        "    layers.Dense(16, activation=\"tanh\"),\n",
        "        layers.Dense(16, activation=\"tanh\"),\n",
        "\n",
        "    layers.Dense(1, activation=\"sigmoid\")\n",
        "])\n",
        "model.compile(optimizer=\"adam\",\n",
        "              loss=\"binary_crossentropy\",\n",
        "              metrics=[\"accuracy\"])\n",
        "model.fit(x_train, y_train, epochs=2, batch_size=512)\n",
        "results = model.evaluate(x_test, y_test)\n",
        "results"
      ]
    },
    {
      "cell_type": "markdown",
      "source": [
        "After deploying the model on the Test data(unseen data), accuracy is recorded to be 88.34"
      ],
      "metadata": {
        "id": "n89UlB02MOac"
      }
    },
    {
      "cell_type": "markdown",
      "source": [
        "**Dropout technique:**\n",
        "\n",
        "In order to improve the accuracy of the model on Validation data and Test data, Dropout technique is being implemented.\n",
        "\n",
        "In this technique, one dropout layer is added having only 10% of dropout value. This percentage of dropout value will randomly drop out 10% of nodes in between the layers so that the model only captures the prominent features and ignores noise,(if any).\n",
        "\n",
        "The number of nodes is set to be 20 in each layer after experimenting with multiple number of nodes(16,32,64,128 etc) as the accuracy is noticed to be better at 20 nodes. Similarly, I examined the model's performance with fewer and more number of nodes (results are shared in the summary sheet/reports).\n",
        "\n",
        "I used both ReLU and tanh activation functions for better performance of the model."
      ],
      "metadata": {
        "id": "qcsz9eEyMqCj"
      }
    },
    {
      "cell_type": "code",
      "execution_count": null,
      "metadata": {
        "id": "-wSoOyP8Zjc-"
      },
      "outputs": [],
      "source": [
        "#Dropouts\n",
        "\n",
        "from keras import regularizers\n",
        "from tensorflow import keras\n",
        "from tensorflow.keras import layers\n",
        "from tensorflow.keras import Sequential\n",
        "from tensorflow.keras import models\n",
        "\n",
        "dpt_model = models.Sequential()\n",
        "\n",
        "dpt_model.add(layers.Dense(20, activation='relu', input_shape=(10000,)))\n",
        "dpt_model.add(layers.Dropout(0.1))\n",
        "dpt_model.add(layers.Dense(20, activation='tanh', input_shape=(10000,)))\n",
        "dpt_model.add(layers.Dense(1, activation='sigmoid'))"
      ]
    },
    {
      "cell_type": "code",
      "source": [
        "#Re-training the model on 2 epochs after implemting Dropout technique:\n",
        "history = model.fit(partial_x_train,\n",
        "                    partial_y_train,\n",
        "                    epochs=2,\n",
        "                    batch_size=512,\n",
        "                    validation_data=(x_val, y_val))"
      ],
      "metadata": {
        "colab": {
          "base_uri": "https://localhost:8080/"
        },
        "id": "6t_z1UQsOhKy",
        "outputId": "27615323-0b5f-4394-eceb-02bd1fff6404"
      },
      "execution_count": null,
      "outputs": [
        {
          "output_type": "stream",
          "name": "stdout",
          "text": [
            "Epoch 1/2\n",
            "30/30 [==============================] - 2s 62ms/step - loss: 0.1422 - accuracy: 0.9558 - val_loss: 0.1465 - val_accuracy: 0.9504\n",
            "Epoch 2/2\n",
            "30/30 [==============================] - 1s 38ms/step - loss: 0.0948 - accuracy: 0.9774 - val_loss: 0.1692 - val_accuracy: 0.9390\n"
          ]
        }
      ]
    },
    {
      "cell_type": "markdown",
      "source": [
        "After using the Dropout technique, there is a significant improvement in the validation accuracy which is 95.04 and 93.90 on each of the epoch. This shows an approximate improvement of 6% after using Dropout technique."
      ],
      "metadata": {
        "id": "57x1kiLjO19v"
      }
    },
    {
      "cell_type": "code",
      "source": [
        "#Retesting the model:\n",
        "\n",
        "model = keras.Sequential([\n",
        "    layers.Dense(16, activation=\"relu\"),\n",
        "    layers.Dense(16, activation=\"tanh\"),\n",
        "        layers.Dense(16, activation=\"tanh\"),\n",
        "\n",
        "    layers.Dense(1, activation=\"sigmoid\")\n",
        "])\n",
        "model.compile(optimizer=\"adam\",\n",
        "              loss=\"binary_crossentropy\",\n",
        "              metrics=[\"accuracy\"])\n",
        "model.fit(x_train, y_train, epochs=2, batch_size=512)\n",
        "results = model.evaluate(x_test, y_test)\n",
        "results\n"
      ],
      "metadata": {
        "colab": {
          "base_uri": "https://localhost:8080/"
        },
        "id": "qq2pjpp8PPSi",
        "outputId": "36a507ca-233b-4bf8-f2fa-34ef3ca82773"
      },
      "execution_count": null,
      "outputs": [
        {
          "output_type": "stream",
          "name": "stdout",
          "text": [
            "Epoch 1/2\n",
            "49/49 [==============================] - 4s 31ms/step - loss: 0.4710 - accuracy: 0.8144\n",
            "Epoch 2/2\n",
            "49/49 [==============================] - 1s 29ms/step - loss: 0.2261 - accuracy: 0.9190\n",
            "782/782 [==============================] - 2s 3ms/step - loss: 0.2818 - accuracy: 0.8861\n"
          ]
        },
        {
          "output_type": "execute_result",
          "data": {
            "text/plain": [
              "[0.2818344831466675, 0.8861200213432312]"
            ]
          },
          "metadata": {},
          "execution_count": 18
        }
      ]
    },
    {
      "cell_type": "markdown",
      "source": [
        "After using Dropout technique, we can see that the accuracy is improved to 88.61 from 88.34."
      ],
      "metadata": {
        "id": "fqibOd1nPbQf"
      }
    }
  ],
  "metadata": {
    "colab": {
      "provenance": []
    },
    "kernelspec": {
      "display_name": "Python 3",
      "name": "python3"
    },
    "language_info": {
      "name": "python"
    }
  },
  "nbformat": 4,
  "nbformat_minor": 0
}